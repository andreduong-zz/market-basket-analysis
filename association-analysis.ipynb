{
 "cells": [
  {
   "cell_type": "markdown",
   "metadata": {},
   "source": [
    "# Market Basket Analysis with SQL, Association Rule, and the Apriori Algorithm"
   ]
  },
  {
   "cell_type": "markdown",
   "metadata": {},
   "source": [
    "# Project Overview"
   ]
  },
  {
   "cell_type": "markdown",
   "metadata": {},
   "source": [
    "Whether you shop from meticulously planned grocery lists or let whimsy guide your grazing, our unique food rituals define who we are. Instacart, a grocery ordering and delivery app, aims to make it easy to fill your refrigerator and pantry with your personal favorites and staples when you need them."
   ]
  },
  {
   "cell_type": "markdown",
   "metadata": {},
   "source": [
    "In this project, I will use this anonymized data from Instacart on customer orders over time to practice some SQL queries with PostgreSQL database, then try to find interesting purchase combinations with association rule and Apriori algorithm."
   ]
  },
  {
   "cell_type": "markdown",
   "metadata": {},
   "source": [
    "## What I Have Learned From This Project"
   ]
  },
  {
   "cell_type": "markdown",
   "metadata": {},
   "source": [
    "* Utilized SQLAlchemy, which gives full power and flexibility of SQL<br>\n",
    "* Practiced SQL queries: CREATE, SELECT, FROM, JOIN, DROP, INNER JOIN, etc.<br>\n",
    "* Worked with PostgreSQL database<br>\n",
    "* Association Analysis: a classic business intelligence data mining problem<br>\n",
    "* Implemented Apriori algorithm with Python library MLxtend"
   ]
  },
  {
   "cell_type": "markdown",
   "metadata": {},
   "source": [
    "# Data Description "
   ]
  },
  {
   "cell_type": "markdown",
   "metadata": {},
   "source": [
    "The dataset for this competition is a relational set of files describing customers' orders over time. The goal of the competition is to predict which products will be in a user's next order. The dataset is anonymized and contains a sample of over 3 million grocery orders from more than 200,000 Instacart users. For each user, we provide between 4 and 100 of their orders, with the sequence of products purchased in each order. We also provide the week and hour of day the order was placed, and a relative measure of time between orders. Each entity (customer, product, order, aisle, etc.) has an associated unique id. Most of the files and variable names should be self-explanatory."
   ]
  },
  {
   "cell_type": "markdown",
   "metadata": {},
   "source": [
    "More information about this dataset can be found [here](https://www.kaggle.com/c/instacart-market-basket-analysis/data)."
   ]
  },
  {
   "cell_type": "markdown",
   "metadata": {},
   "source": [
    "# Association Rule"
   ]
  },
  {
   "cell_type": "markdown",
   "metadata": {},
   "source": [
    "## Concepts"
   ]
  },
  {
   "cell_type": "markdown",
   "metadata": {},
   "source": [
    "Reference: https://www.kdnuggets.com/2016/04/association-rules-apriori-algorithm-tutorial.html"
   ]
  },
  {
   "cell_type": "markdown",
   "metadata": {},
   "source": [
    "Association rules analysis is a technique to uncover how items are associated to each other. There are three common ways to measure association:<br>\n",
    "* **Support**: This says how popular an itemset is, as measured by the proportion of transactions in which an itemset appears.<br>\n",
    "* **Confidence**: This says how likely item Y is purchased when item X is purchased, expressed as {X -> Y}. This is measured by the proportion of transactions with item X, in which item Y also appears.<br>\n",
    "* **Lift**: This says how likely item Y is purchased when item X is purchased, while controlling for how popular item Y is. A lift value greater than 1 means that item Y is likely to be bought if item X is bought, while a value less than 1 means that item Y is unlikely to be bought if item X is bought."
   ]
  },
  {
   "cell_type": "markdown",
   "metadata": {},
   "source": [
    "## MLxtend Library and Apriori Algorithm"
   ]
  },
  {
   "cell_type": "markdown",
   "metadata": {},
   "source": [
    "If you have some basic understanding of the python data science world, your first inclination would be to look at Scikit-Learn for a ready-made algorithm. However, Scikit-Learn does not support this algorithm. Fortunately, the very useful MLxtend library by Sebastian Raschka has an implementation of the Apriori algorithm for extracting frequent item sets for further analysis."
   ]
  },
  {
   "cell_type": "markdown",
   "metadata": {},
   "source": [
    "# Application"
   ]
  },
  {
   "cell_type": "markdown",
   "metadata": {},
   "source": [
    "## Load the Preprocessed Data"
   ]
  },
  {
   "cell_type": "code",
   "execution_count": 1,
   "metadata": {
    "ExecuteTime": {
     "end_time": "2019-08-06T14:47:19.930139Z",
     "start_time": "2019-08-06T14:47:19.457316Z"
    }
   },
   "outputs": [],
   "source": [
    "# import necessary tools\n",
    "import pandas as pd\n",
    "from mlxtend.frequent_patterns import apriori\n",
    "from mlxtend.frequent_patterns import association_rules"
   ]
  },
  {
   "cell_type": "code",
   "execution_count": 2,
   "metadata": {
    "ExecuteTime": {
     "end_time": "2019-08-06T14:47:20.019236Z",
     "start_time": "2019-08-06T14:47:19.934290Z"
    }
   },
   "outputs": [
    {
     "data": {
      "text/html": [
       "<div>\n",
       "<style scoped>\n",
       "    .dataframe tbody tr th:only-of-type {\n",
       "        vertical-align: middle;\n",
       "    }\n",
       "\n",
       "    .dataframe tbody tr th {\n",
       "        vertical-align: top;\n",
       "    }\n",
       "\n",
       "    .dataframe thead th {\n",
       "        text-align: right;\n",
       "    }\n",
       "</style>\n",
       "<table border=\"1\" class=\"dataframe\">\n",
       "  <thead>\n",
       "    <tr style=\"text-align: right;\">\n",
       "      <th></th>\n",
       "      <th>order_id</th>\n",
       "      <th>product_name</th>\n",
       "    </tr>\n",
       "  </thead>\n",
       "  <tbody>\n",
       "    <tr>\n",
       "      <th>0</th>\n",
       "      <td>6</td>\n",
       "      <td>Cleanse</td>\n",
       "    </tr>\n",
       "    <tr>\n",
       "      <th>1</th>\n",
       "      <td>6</td>\n",
       "      <td>Clean Day Lavender Scent Room Freshener Spray</td>\n",
       "    </tr>\n",
       "    <tr>\n",
       "      <th>2</th>\n",
       "      <td>6</td>\n",
       "      <td>Dryer Sheets Geranium Scent</td>\n",
       "    </tr>\n",
       "    <tr>\n",
       "      <th>3</th>\n",
       "      <td>8</td>\n",
       "      <td>Original Hawaiian Sweet Rolls</td>\n",
       "    </tr>\n",
       "    <tr>\n",
       "      <th>4</th>\n",
       "      <td>14</td>\n",
       "      <td>Naturals Chicken Nuggets</td>\n",
       "    </tr>\n",
       "  </tbody>\n",
       "</table>\n",
       "</div>"
      ],
      "text/plain": [
       "   order_id                                   product_name\n",
       "0         6                                        Cleanse\n",
       "1         6  Clean Day Lavender Scent Room Freshener Spray\n",
       "2         6                    Dryer Sheets Geranium Scent\n",
       "3         8                  Original Hawaiian Sweet Rolls\n",
       "4        14                       Naturals Chicken Nuggets"
      ]
     },
     "execution_count": 2,
     "metadata": {},
     "output_type": "execute_result"
    }
   ],
   "source": [
    "# load the data\n",
    "df = pd.read_csv('data.csv')\n",
    "df.head(5)"
   ]
  },
  {
   "cell_type": "markdown",
   "metadata": {},
   "source": [
    "## Get Data for Household Products"
   ]
  },
  {
   "cell_type": "markdown",
   "metadata": {},
   "source": [
    "For the sake of keeping the dataset small, we are only looking at sales for household products in this project. First, we get the list of household products:"
   ]
  },
  {
   "cell_type": "code",
   "execution_count": 3,
   "metadata": {
    "ExecuteTime": {
     "end_time": "2019-08-06T14:47:21.076089Z",
     "start_time": "2019-08-06T14:47:20.984460Z"
    }
   },
   "outputs": [
    {
     "data": {
      "text/html": [
       "<div>\n",
       "<style scoped>\n",
       "    .dataframe tbody tr th:only-of-type {\n",
       "        vertical-align: middle;\n",
       "    }\n",
       "\n",
       "    .dataframe tbody tr th {\n",
       "        vertical-align: top;\n",
       "    }\n",
       "\n",
       "    .dataframe thead th {\n",
       "        text-align: right;\n",
       "    }\n",
       "</style>\n",
       "<table border=\"1\" class=\"dataframe\">\n",
       "  <thead>\n",
       "    <tr style=\"text-align: right;\">\n",
       "      <th></th>\n",
       "      <th>product_name</th>\n",
       "      <th>department_id</th>\n",
       "    </tr>\n",
       "  </thead>\n",
       "  <tbody>\n",
       "    <tr>\n",
       "      <th>13</th>\n",
       "      <td>Fresh Scent Dishwasher Cleaner</td>\n",
       "      <td>17</td>\n",
       "    </tr>\n",
       "    <tr>\n",
       "      <th>47</th>\n",
       "      <td>School Glue, Washable, No Run</td>\n",
       "      <td>17</td>\n",
       "    </tr>\n",
       "    <tr>\n",
       "      <th>56</th>\n",
       "      <td>Flat Toothpicks</td>\n",
       "      <td>17</td>\n",
       "    </tr>\n",
       "    <tr>\n",
       "      <th>70</th>\n",
       "      <td>Ultra 7 Inch Polypropylene Traditional Plates</td>\n",
       "      <td>17</td>\n",
       "    </tr>\n",
       "    <tr>\n",
       "      <th>104</th>\n",
       "      <td>Easy Grab 9\\\"x13\\\" Oblong Glass Bakeware</td>\n",
       "      <td>17</td>\n",
       "    </tr>\n",
       "  </tbody>\n",
       "</table>\n",
       "</div>"
      ],
      "text/plain": [
       "                                      product_name  department_id\n",
       "13                  Fresh Scent Dishwasher Cleaner             17\n",
       "47                   School Glue, Washable, No Run             17\n",
       "56                                 Flat Toothpicks             17\n",
       "70   Ultra 7 Inch Polypropylene Traditional Plates             17\n",
       "104       Easy Grab 9\\\"x13\\\" Oblong Glass Bakeware             17"
      ]
     },
     "execution_count": 3,
     "metadata": {},
     "output_type": "execute_result"
    }
   ],
   "source": [
    "# load products.csv\n",
    "products = pd.read_csv('products.csv')\n",
    "\n",
    "# drop irrelevant columns\n",
    "products.drop(['product_id', 'aisle_id'], axis=1, inplace=True)\n",
    "\n",
    "# keep only household products, remove the rest\n",
    "household = products[products['department_id'] == 17]\n",
    "household.head(5)"
   ]
  },
  {
   "cell_type": "code",
   "execution_count": 4,
   "metadata": {
    "ExecuteTime": {
     "end_time": "2019-08-06T14:47:21.563478Z",
     "start_time": "2019-08-06T14:47:21.126867Z"
    }
   },
   "outputs": [],
   "source": [
    "# create an empty list\n",
    "household_list = []\n",
    "\n",
    "# add product names to the list\n",
    "for i, rows in household.iterrows():\n",
    "    i = rows.product_name\n",
    "    household_list.append(i)"
   ]
  },
  {
   "cell_type": "code",
   "execution_count": 5,
   "metadata": {
    "ExecuteTime": {
     "end_time": "2019-08-06T14:47:22.714182Z",
     "start_time": "2019-08-06T14:47:22.689082Z"
    }
   },
   "outputs": [
    {
     "data": {
      "text/html": [
       "<div>\n",
       "<style scoped>\n",
       "    .dataframe tbody tr th:only-of-type {\n",
       "        vertical-align: middle;\n",
       "    }\n",
       "\n",
       "    .dataframe tbody tr th {\n",
       "        vertical-align: top;\n",
       "    }\n",
       "\n",
       "    .dataframe thead th {\n",
       "        text-align: right;\n",
       "    }\n",
       "</style>\n",
       "<table border=\"1\" class=\"dataframe\">\n",
       "  <thead>\n",
       "    <tr style=\"text-align: right;\">\n",
       "      <th></th>\n",
       "      <th>order_id</th>\n",
       "      <th>product_name</th>\n",
       "    </tr>\n",
       "  </thead>\n",
       "  <tbody>\n",
       "    <tr>\n",
       "      <th>1</th>\n",
       "      <td>6</td>\n",
       "      <td>Clean Day Lavender Scent Room Freshener Spray</td>\n",
       "    </tr>\n",
       "    <tr>\n",
       "      <th>2</th>\n",
       "      <td>6</td>\n",
       "      <td>Dryer Sheets Geranium Scent</td>\n",
       "    </tr>\n",
       "    <tr>\n",
       "      <th>24</th>\n",
       "      <td>46</td>\n",
       "      <td>Ultra Soft Bathroom Tissue, Double Rolls</td>\n",
       "    </tr>\n",
       "    <tr>\n",
       "      <th>29</th>\n",
       "      <td>46</td>\n",
       "      <td>Casual Napkins</td>\n",
       "    </tr>\n",
       "    <tr>\n",
       "      <th>31</th>\n",
       "      <td>46</td>\n",
       "      <td>Plates, 10-1/16 Inch</td>\n",
       "    </tr>\n",
       "  </tbody>\n",
       "</table>\n",
       "</div>"
      ],
      "text/plain": [
       "    order_id                                   product_name\n",
       "1          6  Clean Day Lavender Scent Room Freshener Spray\n",
       "2          6                    Dryer Sheets Geranium Scent\n",
       "24        46       Ultra Soft Bathroom Tissue, Double Rolls\n",
       "29        46                                 Casual Napkins\n",
       "31        46                           Plates, 10-1/16 Inch"
      ]
     },
     "execution_count": 5,
     "metadata": {},
     "output_type": "execute_result"
    }
   ],
   "source": [
    "# remove products that are not household product in the dataframe\n",
    "df_household = df[df['product_name'].isin(household_list)]\n",
    "df_household.head(5)"
   ]
  },
  {
   "cell_type": "code",
   "execution_count": 6,
   "metadata": {
    "ExecuteTime": {
     "end_time": "2019-08-06T14:47:23.146681Z",
     "start_time": "2019-08-06T14:47:23.132334Z"
    },
    "scrolled": true
   },
   "outputs": [
    {
     "name": "stdout",
     "output_type": "stream",
     "text": [
      "<class 'pandas.core.frame.DataFrame'>\n",
      "Int64Index: 1614 entries, 1 to 72892\n",
      "Data columns (total 2 columns):\n",
      "order_id        1614 non-null int64\n",
      "product_name    1614 non-null object\n",
      "dtypes: int64(1), object(1)\n",
      "memory usage: 37.8+ KB\n"
     ]
    }
   ],
   "source": [
    "df_household.info()"
   ]
  },
  {
   "cell_type": "code",
   "execution_count": 7,
   "metadata": {
    "ExecuteTime": {
     "end_time": "2019-08-06T14:47:23.627030Z",
     "start_time": "2019-08-06T14:47:23.466714Z"
    }
   },
   "outputs": [
    {
     "data": {
      "text/html": [
       "<div>\n",
       "<style scoped>\n",
       "    .dataframe tbody tr th:only-of-type {\n",
       "        vertical-align: middle;\n",
       "    }\n",
       "\n",
       "    .dataframe tbody tr th {\n",
       "        vertical-align: top;\n",
       "    }\n",
       "\n",
       "    .dataframe thead th {\n",
       "        text-align: right;\n",
       "    }\n",
       "</style>\n",
       "<table border=\"1\" class=\"dataframe\">\n",
       "  <thead>\n",
       "    <tr style=\"text-align: right;\">\n",
       "      <th></th>\n",
       "      <th>product_name</th>\n",
       "    </tr>\n",
       "    <tr>\n",
       "      <th>order_id</th>\n",
       "      <th></th>\n",
       "    </tr>\n",
       "  </thead>\n",
       "  <tbody>\n",
       "    <tr>\n",
       "      <th>6</th>\n",
       "      <td>[Clean Day Lavender Scent Room Freshener Spray...</td>\n",
       "    </tr>\n",
       "    <tr>\n",
       "      <th>46</th>\n",
       "      <td>[Ultra Soft Bathroom Tissue, Double Rolls, Cas...</td>\n",
       "    </tr>\n",
       "    <tr>\n",
       "      <th>64</th>\n",
       "      <td>[Ultra Soft &amp; Strong® Toilet Paper Double Rolls]</td>\n",
       "    </tr>\n",
       "    <tr>\n",
       "      <th>85</th>\n",
       "      <td>[L'elegance Toothpicks, Ultra Soft Facial Tiss...</td>\n",
       "    </tr>\n",
       "    <tr>\n",
       "      <th>169</th>\n",
       "      <td>[100% Recycled Paper Towels, 100% Recycled Bat...</td>\n",
       "    </tr>\n",
       "  </tbody>\n",
       "</table>\n",
       "</div>"
      ],
      "text/plain": [
       "                                               product_name\n",
       "order_id                                                   \n",
       "6         [Clean Day Lavender Scent Room Freshener Spray...\n",
       "46        [Ultra Soft Bathroom Tissue, Double Rolls, Cas...\n",
       "64         [Ultra Soft & Strong® Toilet Paper Double Rolls]\n",
       "85        [L'elegance Toothpicks, Ultra Soft Facial Tiss...\n",
       "169       [100% Recycled Paper Towels, 100% Recycled Bat..."
      ]
     },
     "execution_count": 7,
     "metadata": {},
     "output_type": "execute_result"
    }
   ],
   "source": [
    "# create a basket dataframe from df_household, using custom aggregations\n",
    "basket = df_household.groupby('order_id', as_index=False).agg({'product_name': lambda x: list(x)})\n",
    "basket = basket.set_index('order_id')\n",
    "basket.head()"
   ]
  },
  {
   "cell_type": "markdown",
   "metadata": {},
   "source": [
    "Association Analysis requires that all the data for a transaction be included in 1 row and the items should be 1-hot encoded. To one-hot encode the column product_name, we will use Scikit-Learn's preprocessing tool ```MultiLabelBinarizer```:"
   ]
  },
  {
   "cell_type": "code",
   "execution_count": 8,
   "metadata": {
    "ExecuteTime": {
     "end_time": "2019-08-06T14:47:29.546841Z",
     "start_time": "2019-08-06T14:47:29.093427Z"
    }
   },
   "outputs": [
    {
     "data": {
      "text/html": [
       "<div>\n",
       "<style scoped>\n",
       "    .dataframe tbody tr th:only-of-type {\n",
       "        vertical-align: middle;\n",
       "    }\n",
       "\n",
       "    .dataframe tbody tr th {\n",
       "        vertical-align: top;\n",
       "    }\n",
       "\n",
       "    .dataframe thead th {\n",
       "        text-align: right;\n",
       "    }\n",
       "</style>\n",
       "<table border=\"1\" class=\"dataframe\">\n",
       "  <thead>\n",
       "    <tr style=\"text-align: right;\">\n",
       "      <th></th>\n",
       "      <th>1 Ply Paper Towels</th>\n",
       "      <th>10 Inch Wheat Straw Plates</th>\n",
       "      <th>100 % Recycled Paper Towels</th>\n",
       "      <th>100% Natural Sponge Cloths</th>\n",
       "      <th>100% Recycled 1 Ply White Napkins</th>\n",
       "      <th>100% Recycled 2 Ply Jumbo Paper Towel Roll</th>\n",
       "      <th>100% Recycled 2 Ply Paper Towels</th>\n",
       "      <th>100% Recycled Bath Tissue Rolls</th>\n",
       "      <th>100% Recycled Bathroom Tissue</th>\n",
       "      <th>100% Recycled Facial Tissue</th>\n",
       "      <th>...</th>\n",
       "      <th>White Rosemary Scent Natural Surface Cleaner</th>\n",
       "      <th>White Select A Size Paper Towels</th>\n",
       "      <th>White Select-A-Size Paper Towels</th>\n",
       "      <th>Windex Electronic Wipes</th>\n",
       "      <th>With Febreze Bounce Fabric Softener Dryer Sheet Spring &amp; Renewal 105CT Fabric Enhancers</th>\n",
       "      <th>Wood for Good Almond Scented Polish</th>\n",
       "      <th>Wrinkle Releaser Light Fresh Scent</th>\n",
       "      <th>Wrinkle Releaser Plus Light Fresh Scent</th>\n",
       "      <th>XL Pick-A-Size Paper Towel Rolls</th>\n",
       "      <th>Zipper Sandwich Bags</th>\n",
       "    </tr>\n",
       "    <tr>\n",
       "      <th>order_id</th>\n",
       "      <th></th>\n",
       "      <th></th>\n",
       "      <th></th>\n",
       "      <th></th>\n",
       "      <th></th>\n",
       "      <th></th>\n",
       "      <th></th>\n",
       "      <th></th>\n",
       "      <th></th>\n",
       "      <th></th>\n",
       "      <th></th>\n",
       "      <th></th>\n",
       "      <th></th>\n",
       "      <th></th>\n",
       "      <th></th>\n",
       "      <th></th>\n",
       "      <th></th>\n",
       "      <th></th>\n",
       "      <th></th>\n",
       "      <th></th>\n",
       "      <th></th>\n",
       "    </tr>\n",
       "  </thead>\n",
       "  <tbody>\n",
       "    <tr>\n",
       "      <th>6</th>\n",
       "      <td>0</td>\n",
       "      <td>0</td>\n",
       "      <td>0</td>\n",
       "      <td>0</td>\n",
       "      <td>0</td>\n",
       "      <td>0</td>\n",
       "      <td>0</td>\n",
       "      <td>0</td>\n",
       "      <td>0</td>\n",
       "      <td>0</td>\n",
       "      <td>...</td>\n",
       "      <td>0</td>\n",
       "      <td>0</td>\n",
       "      <td>0</td>\n",
       "      <td>0</td>\n",
       "      <td>0</td>\n",
       "      <td>0</td>\n",
       "      <td>0</td>\n",
       "      <td>0</td>\n",
       "      <td>0</td>\n",
       "      <td>0</td>\n",
       "    </tr>\n",
       "    <tr>\n",
       "      <th>46</th>\n",
       "      <td>0</td>\n",
       "      <td>0</td>\n",
       "      <td>0</td>\n",
       "      <td>0</td>\n",
       "      <td>0</td>\n",
       "      <td>0</td>\n",
       "      <td>0</td>\n",
       "      <td>0</td>\n",
       "      <td>0</td>\n",
       "      <td>0</td>\n",
       "      <td>...</td>\n",
       "      <td>0</td>\n",
       "      <td>0</td>\n",
       "      <td>0</td>\n",
       "      <td>0</td>\n",
       "      <td>0</td>\n",
       "      <td>0</td>\n",
       "      <td>0</td>\n",
       "      <td>0</td>\n",
       "      <td>0</td>\n",
       "      <td>0</td>\n",
       "    </tr>\n",
       "    <tr>\n",
       "      <th>64</th>\n",
       "      <td>0</td>\n",
       "      <td>0</td>\n",
       "      <td>0</td>\n",
       "      <td>0</td>\n",
       "      <td>0</td>\n",
       "      <td>0</td>\n",
       "      <td>0</td>\n",
       "      <td>0</td>\n",
       "      <td>0</td>\n",
       "      <td>0</td>\n",
       "      <td>...</td>\n",
       "      <td>0</td>\n",
       "      <td>0</td>\n",
       "      <td>0</td>\n",
       "      <td>0</td>\n",
       "      <td>0</td>\n",
       "      <td>0</td>\n",
       "      <td>0</td>\n",
       "      <td>0</td>\n",
       "      <td>0</td>\n",
       "      <td>0</td>\n",
       "    </tr>\n",
       "    <tr>\n",
       "      <th>85</th>\n",
       "      <td>0</td>\n",
       "      <td>0</td>\n",
       "      <td>0</td>\n",
       "      <td>0</td>\n",
       "      <td>0</td>\n",
       "      <td>0</td>\n",
       "      <td>0</td>\n",
       "      <td>0</td>\n",
       "      <td>0</td>\n",
       "      <td>0</td>\n",
       "      <td>...</td>\n",
       "      <td>0</td>\n",
       "      <td>0</td>\n",
       "      <td>0</td>\n",
       "      <td>0</td>\n",
       "      <td>0</td>\n",
       "      <td>0</td>\n",
       "      <td>0</td>\n",
       "      <td>0</td>\n",
       "      <td>0</td>\n",
       "      <td>0</td>\n",
       "    </tr>\n",
       "    <tr>\n",
       "      <th>169</th>\n",
       "      <td>0</td>\n",
       "      <td>0</td>\n",
       "      <td>0</td>\n",
       "      <td>0</td>\n",
       "      <td>0</td>\n",
       "      <td>0</td>\n",
       "      <td>0</td>\n",
       "      <td>0</td>\n",
       "      <td>1</td>\n",
       "      <td>0</td>\n",
       "      <td>...</td>\n",
       "      <td>0</td>\n",
       "      <td>0</td>\n",
       "      <td>0</td>\n",
       "      <td>0</td>\n",
       "      <td>0</td>\n",
       "      <td>0</td>\n",
       "      <td>0</td>\n",
       "      <td>0</td>\n",
       "      <td>0</td>\n",
       "      <td>0</td>\n",
       "    </tr>\n",
       "  </tbody>\n",
       "</table>\n",
       "<p>5 rows × 666 columns</p>\n",
       "</div>"
      ],
      "text/plain": [
       "          1 Ply Paper Towels  10 Inch Wheat Straw Plates  \\\n",
       "order_id                                                   \n",
       "6                          0                           0   \n",
       "46                         0                           0   \n",
       "64                         0                           0   \n",
       "85                         0                           0   \n",
       "169                        0                           0   \n",
       "\n",
       "          100 % Recycled Paper Towels  100% Natural Sponge Cloths  \\\n",
       "order_id                                                            \n",
       "6                                   0                           0   \n",
       "46                                  0                           0   \n",
       "64                                  0                           0   \n",
       "85                                  0                           0   \n",
       "169                                 0                           0   \n",
       "\n",
       "          100% Recycled 1 Ply White Napkins  \\\n",
       "order_id                                      \n",
       "6                                         0   \n",
       "46                                        0   \n",
       "64                                        0   \n",
       "85                                        0   \n",
       "169                                       0   \n",
       "\n",
       "          100% Recycled 2 Ply Jumbo Paper Towel Roll  \\\n",
       "order_id                                               \n",
       "6                                                  0   \n",
       "46                                                 0   \n",
       "64                                                 0   \n",
       "85                                                 0   \n",
       "169                                                0   \n",
       "\n",
       "          100% Recycled 2 Ply Paper Towels  100% Recycled Bath Tissue Rolls  \\\n",
       "order_id                                                                      \n",
       "6                                        0                                0   \n",
       "46                                       0                                0   \n",
       "64                                       0                                0   \n",
       "85                                       0                                0   \n",
       "169                                      0                                0   \n",
       "\n",
       "          100% Recycled Bathroom Tissue  100% Recycled Facial Tissue  ...  \\\n",
       "order_id                                                              ...   \n",
       "6                                     0                            0  ...   \n",
       "46                                    0                            0  ...   \n",
       "64                                    0                            0  ...   \n",
       "85                                    0                            0  ...   \n",
       "169                                   1                            0  ...   \n",
       "\n",
       "          White Rosemary Scent Natural Surface Cleaner  \\\n",
       "order_id                                                 \n",
       "6                                                    0   \n",
       "46                                                   0   \n",
       "64                                                   0   \n",
       "85                                                   0   \n",
       "169                                                  0   \n",
       "\n",
       "          White Select A Size Paper Towels  White Select-A-Size Paper Towels  \\\n",
       "order_id                                                                       \n",
       "6                                        0                                 0   \n",
       "46                                       0                                 0   \n",
       "64                                       0                                 0   \n",
       "85                                       0                                 0   \n",
       "169                                      0                                 0   \n",
       "\n",
       "          Windex Electronic Wipes  \\\n",
       "order_id                            \n",
       "6                               0   \n",
       "46                              0   \n",
       "64                              0   \n",
       "85                              0   \n",
       "169                             0   \n",
       "\n",
       "          With Febreze Bounce Fabric Softener Dryer Sheet Spring & Renewal 105CT Fabric Enhancers  \\\n",
       "order_id                                                                                            \n",
       "6                                                         0                                         \n",
       "46                                                        0                                         \n",
       "64                                                        0                                         \n",
       "85                                                        0                                         \n",
       "169                                                       0                                         \n",
       "\n",
       "          Wood for Good Almond Scented Polish  \\\n",
       "order_id                                        \n",
       "6                                           0   \n",
       "46                                          0   \n",
       "64                                          0   \n",
       "85                                          0   \n",
       "169                                         0   \n",
       "\n",
       "          Wrinkle Releaser Light Fresh Scent  \\\n",
       "order_id                                       \n",
       "6                                          0   \n",
       "46                                         0   \n",
       "64                                         0   \n",
       "85                                         0   \n",
       "169                                        0   \n",
       "\n",
       "          Wrinkle Releaser Plus Light Fresh Scent  \\\n",
       "order_id                                            \n",
       "6                                               0   \n",
       "46                                              0   \n",
       "64                                              0   \n",
       "85                                              0   \n",
       "169                                             0   \n",
       "\n",
       "          XL Pick-A-Size Paper Towel Rolls  Zipper Sandwich Bags  \n",
       "order_id                                                          \n",
       "6                                        0                     0  \n",
       "46                                       0                     0  \n",
       "64                                       0                     0  \n",
       "85                                       0                     0  \n",
       "169                                      0                     0  \n",
       "\n",
       "[5 rows x 666 columns]"
      ]
     },
     "execution_count": 8,
     "metadata": {},
     "output_type": "execute_result"
    }
   ],
   "source": [
    "from sklearn.preprocessing import MultiLabelBinarizer\n",
    "\n",
    "mlb = MultiLabelBinarizer()\n",
    "basket = basket.join(pd.DataFrame(mlb.fit_transform(basket.pop('product_name')),\n",
    "                                  columns=mlb.classes_,\n",
    "                                  index=basket.index))\n",
    "basket.head()"
   ]
  },
  {
   "cell_type": "markdown",
   "metadata": {},
   "source": [
    "Now that the data is structured properly, we can generate frequent item sets that have a support of at least 0.1% (this number was chosen so that I could get enough useful examples):"
   ]
  },
  {
   "cell_type": "code",
   "execution_count": 10,
   "metadata": {
    "ExecuteTime": {
     "end_time": "2019-08-06T14:47:43.317593Z",
     "start_time": "2019-08-06T14:47:42.227568Z"
    }
   },
   "outputs": [
    {
     "data": {
      "text/html": [
       "<div>\n",
       "<style scoped>\n",
       "    .dataframe tbody tr th:only-of-type {\n",
       "        vertical-align: middle;\n",
       "    }\n",
       "\n",
       "    .dataframe tbody tr th {\n",
       "        vertical-align: top;\n",
       "    }\n",
       "\n",
       "    .dataframe thead th {\n",
       "        text-align: right;\n",
       "    }\n",
       "</style>\n",
       "<table border=\"1\" class=\"dataframe\">\n",
       "  <thead>\n",
       "    <tr style=\"text-align: right;\">\n",
       "      <th></th>\n",
       "      <th>support</th>\n",
       "      <th>itemsets</th>\n",
       "    </tr>\n",
       "  </thead>\n",
       "  <tbody>\n",
       "    <tr>\n",
       "      <th>0</th>\n",
       "      <td>0.005929</td>\n",
       "      <td>(1 Ply Paper Towels)</td>\n",
       "    </tr>\n",
       "    <tr>\n",
       "      <th>1</th>\n",
       "      <td>0.008893</td>\n",
       "      <td>(100% Recycled 2 Ply Jumbo Paper Towel Roll)</td>\n",
       "    </tr>\n",
       "    <tr>\n",
       "      <th>2</th>\n",
       "      <td>0.001976</td>\n",
       "      <td>(100% Recycled 2 Ply Paper Towels)</td>\n",
       "    </tr>\n",
       "    <tr>\n",
       "      <th>3</th>\n",
       "      <td>0.005929</td>\n",
       "      <td>(100% Recycled Bath Tissue Rolls)</td>\n",
       "    </tr>\n",
       "    <tr>\n",
       "      <th>4</th>\n",
       "      <td>0.018775</td>\n",
       "      <td>(100% Recycled Bathroom Tissue)</td>\n",
       "    </tr>\n",
       "  </tbody>\n",
       "</table>\n",
       "</div>"
      ],
      "text/plain": [
       "    support                                      itemsets\n",
       "0  0.005929                          (1 Ply Paper Towels)\n",
       "1  0.008893  (100% Recycled 2 Ply Jumbo Paper Towel Roll)\n",
       "2  0.001976            (100% Recycled 2 Ply Paper Towels)\n",
       "3  0.005929             (100% Recycled Bath Tissue Rolls)\n",
       "4  0.018775               (100% Recycled Bathroom Tissue)"
      ]
     },
     "execution_count": 10,
     "metadata": {},
     "output_type": "execute_result"
    }
   ],
   "source": [
    "frequent_itemsets = apriori(basket, min_support=0.001, use_colnames=True)\n",
    "frequent_itemsets.head()"
   ]
  },
  {
   "cell_type": "markdown",
   "metadata": {},
   "source": [
    "The final step is to generate the rules with their corresponding support, confidence and lift:"
   ]
  },
  {
   "cell_type": "code",
   "execution_count": 13,
   "metadata": {
    "ExecuteTime": {
     "end_time": "2019-08-06T14:52:47.980211Z",
     "start_time": "2019-08-06T14:52:47.945156Z"
    }
   },
   "outputs": [
    {
     "data": {
      "text/html": [
       "<div>\n",
       "<style scoped>\n",
       "    .dataframe tbody tr th:only-of-type {\n",
       "        vertical-align: middle;\n",
       "    }\n",
       "\n",
       "    .dataframe tbody tr th {\n",
       "        vertical-align: top;\n",
       "    }\n",
       "\n",
       "    .dataframe thead th {\n",
       "        text-align: right;\n",
       "    }\n",
       "</style>\n",
       "<table border=\"1\" class=\"dataframe\">\n",
       "  <thead>\n",
       "    <tr style=\"text-align: right;\">\n",
       "      <th></th>\n",
       "      <th>antecedents</th>\n",
       "      <th>consequents</th>\n",
       "      <th>antecedent support</th>\n",
       "      <th>consequent support</th>\n",
       "      <th>support</th>\n",
       "      <th>confidence</th>\n",
       "      <th>lift</th>\n",
       "      <th>leverage</th>\n",
       "      <th>conviction</th>\n",
       "    </tr>\n",
       "  </thead>\n",
       "  <tbody>\n",
       "    <tr>\n",
       "      <th>0</th>\n",
       "      <td>(100% Recycled Bathroom Tissue)</td>\n",
       "      <td>(100% Recycled Paper Towels)</td>\n",
       "      <td>0.018775</td>\n",
       "      <td>0.058300</td>\n",
       "      <td>0.001976</td>\n",
       "      <td>0.105263</td>\n",
       "      <td>1.805531</td>\n",
       "      <td>0.000882</td>\n",
       "      <td>1.052488</td>\n",
       "    </tr>\n",
       "    <tr>\n",
       "      <th>1</th>\n",
       "      <td>(100% Recycled Paper Towels)</td>\n",
       "      <td>(100% Recycled Bathroom Tissue)</td>\n",
       "      <td>0.058300</td>\n",
       "      <td>0.018775</td>\n",
       "      <td>0.001976</td>\n",
       "      <td>0.033898</td>\n",
       "      <td>1.805531</td>\n",
       "      <td>0.000882</td>\n",
       "      <td>1.015654</td>\n",
       "    </tr>\n",
       "    <tr>\n",
       "      <th>2</th>\n",
       "      <td>(100% Recycled Bathroom Tissue)</td>\n",
       "      <td>(2-Ply Right Size 100% Recycled Paper Towels)</td>\n",
       "      <td>0.018775</td>\n",
       "      <td>0.005929</td>\n",
       "      <td>0.001976</td>\n",
       "      <td>0.105263</td>\n",
       "      <td>17.754386</td>\n",
       "      <td>0.001865</td>\n",
       "      <td>1.111021</td>\n",
       "    </tr>\n",
       "    <tr>\n",
       "      <th>3</th>\n",
       "      <td>(2-Ply Right Size 100% Recycled Paper Towels)</td>\n",
       "      <td>(100% Recycled Bathroom Tissue)</td>\n",
       "      <td>0.005929</td>\n",
       "      <td>0.018775</td>\n",
       "      <td>0.001976</td>\n",
       "      <td>0.333333</td>\n",
       "      <td>17.754386</td>\n",
       "      <td>0.001865</td>\n",
       "      <td>1.471838</td>\n",
       "    </tr>\n",
       "    <tr>\n",
       "      <th>4</th>\n",
       "      <td>(Sustainably Soft Bath Tissue)</td>\n",
       "      <td>(100% Recycled Paper Towels)</td>\n",
       "      <td>0.040514</td>\n",
       "      <td>0.058300</td>\n",
       "      <td>0.004941</td>\n",
       "      <td>0.121951</td>\n",
       "      <td>2.091773</td>\n",
       "      <td>0.002579</td>\n",
       "      <td>1.072491</td>\n",
       "    </tr>\n",
       "    <tr>\n",
       "      <th>5</th>\n",
       "      <td>(100% Recycled Paper Towels)</td>\n",
       "      <td>(Sustainably Soft Bath Tissue)</td>\n",
       "      <td>0.058300</td>\n",
       "      <td>0.040514</td>\n",
       "      <td>0.004941</td>\n",
       "      <td>0.084746</td>\n",
       "      <td>2.091773</td>\n",
       "      <td>0.002579</td>\n",
       "      <td>1.048327</td>\n",
       "    </tr>\n",
       "    <tr>\n",
       "      <th>6</th>\n",
       "      <td>(Tall Kitchen Drawstring Bags)</td>\n",
       "      <td>(100% Recycled Paper Towels)</td>\n",
       "      <td>0.006917</td>\n",
       "      <td>0.058300</td>\n",
       "      <td>0.001976</td>\n",
       "      <td>0.285714</td>\n",
       "      <td>4.900726</td>\n",
       "      <td>0.001573</td>\n",
       "      <td>1.318379</td>\n",
       "    </tr>\n",
       "    <tr>\n",
       "      <th>7</th>\n",
       "      <td>(100% Recycled Paper Towels)</td>\n",
       "      <td>(Tall Kitchen Drawstring Bags)</td>\n",
       "      <td>0.058300</td>\n",
       "      <td>0.006917</td>\n",
       "      <td>0.001976</td>\n",
       "      <td>0.033898</td>\n",
       "      <td>4.900726</td>\n",
       "      <td>0.001573</td>\n",
       "      <td>1.027928</td>\n",
       "    </tr>\n",
       "    <tr>\n",
       "      <th>8</th>\n",
       "      <td>(Paper Towels)</td>\n",
       "      <td>(Aluminum Foil)</td>\n",
       "      <td>0.008893</td>\n",
       "      <td>0.035573</td>\n",
       "      <td>0.001976</td>\n",
       "      <td>0.222222</td>\n",
       "      <td>6.246914</td>\n",
       "      <td>0.001660</td>\n",
       "      <td>1.239977</td>\n",
       "    </tr>\n",
       "    <tr>\n",
       "      <th>9</th>\n",
       "      <td>(Aluminum Foil)</td>\n",
       "      <td>(Paper Towels)</td>\n",
       "      <td>0.035573</td>\n",
       "      <td>0.008893</td>\n",
       "      <td>0.001976</td>\n",
       "      <td>0.055556</td>\n",
       "      <td>6.246914</td>\n",
       "      <td>0.001660</td>\n",
       "      <td>1.049407</td>\n",
       "    </tr>\n",
       "  </tbody>\n",
       "</table>\n",
       "</div>"
      ],
      "text/plain": [
       "                                     antecedents  \\\n",
       "0                (100% Recycled Bathroom Tissue)   \n",
       "1                   (100% Recycled Paper Towels)   \n",
       "2                (100% Recycled Bathroom Tissue)   \n",
       "3  (2-Ply Right Size 100% Recycled Paper Towels)   \n",
       "4                 (Sustainably Soft Bath Tissue)   \n",
       "5                   (100% Recycled Paper Towels)   \n",
       "6                 (Tall Kitchen Drawstring Bags)   \n",
       "7                   (100% Recycled Paper Towels)   \n",
       "8                                 (Paper Towels)   \n",
       "9                                (Aluminum Foil)   \n",
       "\n",
       "                                     consequents  antecedent support  \\\n",
       "0                   (100% Recycled Paper Towels)            0.018775   \n",
       "1                (100% Recycled Bathroom Tissue)            0.058300   \n",
       "2  (2-Ply Right Size 100% Recycled Paper Towels)            0.018775   \n",
       "3                (100% Recycled Bathroom Tissue)            0.005929   \n",
       "4                   (100% Recycled Paper Towels)            0.040514   \n",
       "5                 (Sustainably Soft Bath Tissue)            0.058300   \n",
       "6                   (100% Recycled Paper Towels)            0.006917   \n",
       "7                 (Tall Kitchen Drawstring Bags)            0.058300   \n",
       "8                                (Aluminum Foil)            0.008893   \n",
       "9                                 (Paper Towels)            0.035573   \n",
       "\n",
       "   consequent support   support  confidence       lift  leverage  conviction  \n",
       "0            0.058300  0.001976    0.105263   1.805531  0.000882    1.052488  \n",
       "1            0.018775  0.001976    0.033898   1.805531  0.000882    1.015654  \n",
       "2            0.005929  0.001976    0.105263  17.754386  0.001865    1.111021  \n",
       "3            0.018775  0.001976    0.333333  17.754386  0.001865    1.471838  \n",
       "4            0.058300  0.004941    0.121951   2.091773  0.002579    1.072491  \n",
       "5            0.040514  0.004941    0.084746   2.091773  0.002579    1.048327  \n",
       "6            0.058300  0.001976    0.285714   4.900726  0.001573    1.318379  \n",
       "7            0.006917  0.001976    0.033898   4.900726  0.001573    1.027928  \n",
       "8            0.035573  0.001976    0.222222   6.246914  0.001660    1.239977  \n",
       "9            0.008893  0.001976    0.055556   6.246914  0.001660    1.049407  "
      ]
     },
     "execution_count": 13,
     "metadata": {},
     "output_type": "execute_result"
    }
   ],
   "source": [
    "rules = association_rules(frequent_itemsets, metric=\"lift\", min_threshold=1)\n",
    "rules.head(10)"
   ]
  },
  {
   "cell_type": "markdown",
   "metadata": {},
   "source": [
    "That’s all there is to it! Build the frequent items using Apriori then build the rules with ```association_rules```."
   ]
  },
  {
   "cell_type": "markdown",
   "metadata": {},
   "source": [
    "# What does this tell us?"
   ]
  },
  {
   "cell_type": "markdown",
   "metadata": {},
   "source": [
    "Now, the tricky part is figuring out what this tells us. For instance, we can see that there are quite a few rules with a high lift value which means that it occurs more frequently than would be expected given the number of transaction and product combinations. We can also see several where the confidence is high as well. This part of the analysis is where the domain knowledge will come in handy. "
   ]
  },
  {
   "cell_type": "markdown",
   "metadata": {},
   "source": [
    "Though I intend to make a project focused on the above objective sometime in the future, for now I just want to practice skills such as writing SQL queries, utilizing Python's libraries, and applying association rules on a market basket dataset. Domain knowledge is one of the most important skills for a data scientist, and hopefully I will have the opportunities to pick up these skills in the future."
   ]
  }
 ],
 "metadata": {
  "kernelspec": {
   "display_name": "Python 3",
   "language": "python",
   "name": "python3"
  },
  "language_info": {
   "codemirror_mode": {
    "name": "ipython",
    "version": 3
   },
   "file_extension": ".py",
   "mimetype": "text/x-python",
   "name": "python",
   "nbconvert_exporter": "python",
   "pygments_lexer": "ipython3",
   "version": "3.7.3"
  },
  "toc": {
   "base_numbering": 1,
   "nav_menu": {},
   "number_sections": true,
   "sideBar": true,
   "skip_h1_title": false,
   "title_cell": "Table of Contents",
   "title_sidebar": "Contents",
   "toc_cell": false,
   "toc_position": {},
   "toc_section_display": true,
   "toc_window_display": false
  }
 },
 "nbformat": 4,
 "nbformat_minor": 2
}
